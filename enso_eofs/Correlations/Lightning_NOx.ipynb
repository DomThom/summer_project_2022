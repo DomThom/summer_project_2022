{
 "cells": [
  {
   "cell_type": "code",
   "execution_count": 34,
   "id": "dc31c091-75f2-4c39-a12b-ccdd009af2b4",
   "metadata": {},
   "outputs": [],
   "source": [
    "# Import chunk of things\n",
    "import xarray as xr\n",
    "import matplotlib.dates as mdates\n",
    "import numpy as np\n",
    "import matplotlib\n",
    "from matplotlib import rcParams\n",
    "import datetime\n",
    "import pandas as pd\n",
    "import cftime\n",
    "import pylab as plt\n",
    "import netCDF4 as nc\n",
    "from numpy import ma\n",
    "import dask as dd\n",
    "from matplotlib.colors import LinearSegmentedColormap,ListedColormap\n",
    "from matplotlib import cm\n",
    "\n",
    "## Map Plotting imports\n",
    "\n",
    "from matplotlib.colors import LinearSegmentedColormap,ListedColormap\n",
    "from matplotlib import cm\n",
    "import cartopy.crs as ccrs\n",
    "from cartopy.util import add_cyclic_point\n",
    "\n",
    "#stash codes\n",
    "stash_ch4 = 'mass_fraction_of_methane_in_air'\n",
    "stash_co = 'mass_fraction_of_carbon_monoxide_in_air'\n",
    "stash_ch4_oh = 'm01s50i041'\n",
    "stash_oh = 'mass_fraction_of_hydroxyl_radical_in_air'\n",
    "stash_o3 = 'mass_fraction_of_ozone_in_air'\n",
    "stash_trop = 'm01s50i062'\n",
    "stash_mass = 'm01s50i063'\n",
    "stash_temp = 'surface_temperature'\n",
    "stash_nox = 'm01s50i081'\n",
    "\n",
    "#define functions\n",
    "def molec_cm3(conc_kg_kg, mass, vol, mr):\n",
    "    molec_box = conc_kg_kg*mass/mr*1000*n_a #molecules per box\n",
    "    cm3 = molec_box/(vol*1e6) #molec per cm3\n",
    "    return cm3\n",
    "\n",
    "def moving_average(x, months):\n",
    "    return np.convolve(x, np.ones(months), 'valid') / months\n",
    "\n",
    "#define constants\n",
    "n_a = 6.02e23"
   ]
  },
  {
   "cell_type": "code",
   "execution_count": 42,
   "id": "150c26fe-2dd7-4062-b844-06a3a5172ee5",
   "metadata": {},
   "outputs": [],
   "source": [
    "# do lightning nox calculations\n",
    "\n",
    "area = nc.Dataset(f'/gws/nopw/j04/gcp_ch4/u-bl949/areacella_fx_UKESM1-0-LL_piControl_r1i1p1f2_gn.nc')\n",
    "box_area = area.variables['areacella'][:]\n",
    "\n",
    "total_area = np.sum(box_area)\n",
    "area_scaled = box_area/total_area\n",
    "lat_area_scaled = area_scaled[:,0]#1D array of latitude scaling values\n",
    "\n",
    "## Fetch data\n",
    "nox_data_949 = xr.open_dataset(f'/gws/nopw/j04/gcp_ch4/u-bl949/ubl949_l_nox.nc',chunks={'time':24})\n",
    "nox_949 = nox_data_949.variables[stash_nox][:]\n",
    "\n",
    "nlat = nox_data_949.latitude[:]\n",
    "nlon = nox_data_949.longitude[:]\n",
    "ntime = nox_data_949.time[:]\n",
    "\n",
    "lnox = np.average(nox_949,axis=(1,3))\n",
    "pnox = np.average(lnox,weights=lat_area_scaled,axis=(1))\n",
    "\n",
    "# Calculate long term means then the anomaly\n",
    "\n",
    "mean_3yr = moving_average(pnox,3)\n",
    "mean_50yr = moving_average(pnox,50)\n",
    "\n",
    "anomaly = mean_3yr[47:] - mean_50yr\n",
    "\n",
    "dtime = nc.date2num(ntime,'days since 2000-01-01 00:00:00',calendar='360_day',has_year_zero=True)"
   ]
  },
  {
   "cell_type": "code",
   "execution_count": 43,
   "id": "b8036ae6-9039-457f-8765-a39dfdd1f627",
   "metadata": {},
   "outputs": [
    {
     "data": {
      "text/plain": [
       "(330,)"
      ]
     },
     "execution_count": 43,
     "metadata": {},
     "output_type": "execute_result"
    }
   ],
   "source": [
    "mean_50yr.shape"
   ]
  },
  {
   "cell_type": "code",
   "execution_count": null,
   "id": "b116cbe7-d5c8-44cc-b0b7-66227cde722c",
   "metadata": {},
   "outputs": [],
   "source": []
  }
 ],
 "metadata": {
  "kernelspec": {
   "display_name": "Python 3 + Jaspy",
   "language": "python",
   "name": "jaspy"
  },
  "language_info": {
   "codemirror_mode": {
    "name": "ipython",
    "version": 3
   },
   "file_extension": ".py",
   "mimetype": "text/x-python",
   "name": "python",
   "nbconvert_exporter": "python",
   "pygments_lexer": "ipython3",
   "version": "3.8.12"
  }
 },
 "nbformat": 4,
 "nbformat_minor": 5
}
